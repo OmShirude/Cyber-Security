{
  "nbformat": 4,
  "nbformat_minor": 0,
  "metadata": {
    "colab": {
      "provenance": []
    },
    "kernelspec": {
      "name": "python3",
      "display_name": "Python 3"
    },
    "language_info": {
      "name": "python"
    }
  },
  "cells": [
    {
      "cell_type": "code",
      "execution_count": 1,
      "metadata": {
        "colab": {
          "base_uri": "https://localhost:8080/"
        },
        "id": "IXwlSxj1FpNw",
        "outputId": "4cdf04f5-2f70-481c-c157-797654f4fb0f"
      },
      "outputs": [
        {
          "name": "stdout",
          "output_type": "stream",
          "text": [
            "Enter any 2 digit number:23\n",
            "Enter any 2 digit number:34\n"
          ]
        }
      ],
      "source": [
        "import math\n",
        "Pa = Pb = int(input(\"Enter any 2 digit number:\"))\n",
        "Qa = Qb = int(input(\"Enter any 2 digit number:\"))\n"
      ]
    },
    {
      "cell_type": "code",
      "source": [
        "ApKey = int(input(\"Enter private key for Alice (1 < a < Pa-1): \"))\n",
        "BpKey = int(input(\"Enter private key for Bob (1 < b < Pa-1): \"))"
      ],
      "metadata": {
        "colab": {
          "base_uri": "https://localhost:8080/"
        },
        "id": "m53UAjHUFyQn",
        "outputId": "1b2304ed-c3b3-4e1b-98ff-1563ccf819ec"
      },
      "execution_count": 2,
      "outputs": [
        {
          "name": "stdout",
          "output_type": "stream",
          "text": [
            "Enter private key for Alice (1 < a < Pa-1): 14\n",
            "Enter private key for Bob (1 < b < Pa-1): 12\n"
          ]
        }
      ]
    },
    {
      "cell_type": "code",
      "source": [
        "g=6969\n",
        "A = pow(g, ApKey, Pa);\n",
        "B = pow(g, BpKey, Pa);"
      ],
      "metadata": {
        "id": "Pgl8KopgGlVo"
      },
      "execution_count": 3,
      "outputs": []
    },
    {
      "cell_type": "code",
      "source": [
        "S_A = pow(B, ApKey, Pa)\n",
        "S_B = pow(A, BpKey, Pa)"
      ],
      "metadata": {
        "id": "okH04ChkF9ej"
      },
      "execution_count": 4,
      "outputs": []
    },
    {
      "cell_type": "code",
      "source": [
        "print(\"Shared Secret for Alice: \", S_A)\n",
        "print(\"Shared Secret for Bob  : \", S_B)"
      ],
      "metadata": {
        "colab": {
          "base_uri": "https://localhost:8080/"
        },
        "id": "CRtot08YF9kj",
        "outputId": "5ce0737c-16de-45b4-b57d-a7976dffebb0"
      },
      "execution_count": 5,
      "outputs": [
        {
          "output_type": "stream",
          "name": "stdout",
          "text": [
            "Shared Secret for Alice:  0\n",
            "Shared Secret for Bob  :  0\n"
          ]
        }
      ]
    }
  ]
}