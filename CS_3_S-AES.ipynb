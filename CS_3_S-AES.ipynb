{
  "nbformat": 4,
  "nbformat_minor": 0,
  "metadata": {
    "colab": {
      "provenance": []
    },
    "kernelspec": {
      "name": "python3",
      "display_name": "Python 3"
    },
    "language_info": {
      "name": "python"
    }
  },
  "cells": [
    {
      "cell_type": "markdown",
      "source": [
        "# CS-3  S-AES"
      ],
      "metadata": {
        "id": "QISoTfTCOFl9"
      }
    },
    {
      "cell_type": "code",
      "source": [
        "# S-Box for SubNib step\n",
        "S_BOX = {\n",
        "    '0000': '1001', '0001': '0100', '0010': '1010', '0011': '1011',\n",
        "    '0100': '1101', '0101': '0001', '0110': '1000', '0111': '0101',\n",
        "    '1000': '0110', '1001': '0010', '1010': '0000', '1011': '0011',\n",
        "    '1100': '1100', '1101': '1110', '1110': '1111', '1111': '0111'\n",
        "}\n",
        "\n",
        "# Fixed round key for S-AES\n",
        "ROUND_KEY = '1010000010100000'  # Example round key\n",
        "\n",
        "def break_into_nibbles(input_string):\n",
        "    return [input_string[i:i+4] for i in range(0, len(input_string), 4)]\n",
        "\n",
        "def sub_nib(input_nibbles):\n",
        "    return ''.join(S_BOX[nibble] for nibble in input_nibbles)\n",
        "\n",
        "def add_round_key(input_state, round_key):\n",
        "    return ''.join(str(int(input_state[i]) ^ int(round_key[i])) for i in range(len(input_state)))\n",
        "\n",
        "def encrypt(input_text, round_key):\n",
        "    input_state = input_text\n",
        "    for round_num in range(2):\n",
        "        input_state = add_round_key(input_state, round_key)\n",
        "        input_state = sub_nib(break_into_nibbles(input_state))\n",
        "        input_state = input_state[4:] + input_state[:4]  # Circular shift\n",
        "    return add_round_key(input_state, round_key)\n",
        "\n",
        "def decrypt(ciphertext, round_key):\n",
        "    input_state = ciphertext\n",
        "    for round_num in range(2):\n",
        "        input_state = add_round_key(input_state, round_key)\n",
        "        input_state = input_state[12:] + input_state[:12]  # Reverse circular shift\n",
        "        input_state = sub_nib(break_into_nibbles(input_state))\n",
        "    return add_round_key(input_state, round_key)"
      ],
      "metadata": {
        "id": "LuqYs-KnMcXS"
      },
      "execution_count": 2,
      "outputs": []
    },
    {
      "cell_type": "code",
      "source": [
        "# Test the encryption and decryption\n",
        "plaintext = '1010101010101010'  # Example plaintext\n",
        "print(\"Plaintext:\", plaintext)\n",
        "\n",
        "# Encrypt\n",
        "ciphertext = encrypt(plaintext, ROUND_KEY)\n",
        "print(\"Ciphertext:\", ciphertext)\n",
        "\n",
        "# Decrypt\n",
        "decrypted_text = decrypt(ciphertext, ROUND_KEY)\n",
        "print(\"Decrypted text:\", decrypted_text)"
      ],
      "metadata": {
        "id": "-gwh0Y_I7F21",
        "colab": {
          "base_uri": "https://localhost:8080/"
        },
        "outputId": "6401f806-f473-43da-a718-abeed6f9f7e4"
      },
      "execution_count": 3,
      "outputs": [
        {
          "output_type": "stream",
          "name": "stdout",
          "text": [
            "Plaintext: 1010101010101010\n",
            "Ciphertext: 1000000010000000\n",
            "Decrypted text: 1010101110101011\n"
          ]
        }
      ]
    },
    {
      "cell_type": "code",
      "source": [],
      "metadata": {
        "id": "QbQNP1A9vy6C"
      },
      "execution_count": null,
      "outputs": []
    }
  ]
}