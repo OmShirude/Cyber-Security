{
  "nbformat": 4,
  "nbformat_minor": 0,
  "metadata": {
    "colab": {
      "provenance": []
    },
    "kernelspec": {
      "name": "python3",
      "display_name": "Python 3"
    },
    "language_info": {
      "name": "python"
    }
  },
  "cells": [
    {
      "cell_type": "markdown",
      "source": [
        "**CS- 1**\n",
        "**RSA Algorithm - Encryption & Decryption ***"
      ],
      "metadata": {
        "id": "P2gAGCewKG68"
      }
    },
    {
      "cell_type": "code",
      "source": [
        "import math\n",
        "\n",
        "def gcd(a, h):\n",
        "    temp = 0\n",
        "    while(1):\n",
        "        temp = a % h\n",
        "        if (temp == 0):\n",
        "            return h\n",
        "        a = h\n",
        "        h = temp\n",
        "\n",
        "p = 3\n",
        "q = 7\n",
        "n = p*q\n",
        "e = 2\n",
        "phi = (p-1)*(q-1)\n",
        "\n",
        "while (e < phi):\n",
        "\n",
        "    # e must be co-prime to phi and\n",
        "    # smaller than phi.\n",
        "    if(gcd(e, phi) == 1):\n",
        "        break\n",
        "    else:\n",
        "        e = e+1\n",
        "\n",
        "k = 2\n",
        "d = (1 + (k*phi))/e\n"
      ],
      "metadata": {
        "id": "R10_RI8XKAyL"
      },
      "execution_count": 2,
      "outputs": []
    },
    {
      "cell_type": "code",
      "source": [
        "msg = 12.0\n",
        "\n",
        "print(\"Message data = \", msg)\n",
        "\n",
        "# Encryption c = (msg ^ e) % n\n",
        "c = pow(msg, e)\n",
        "c = math.fmod(c, n)\n",
        "print(\"Encrypted data = \", c)\n",
        "\n",
        "# Decryption m = (c ^ d) % n\n",
        "m = pow(c, d)\n",
        "m = math.fmod(m, n)\n",
        "print(\"Original Message Sent = \", m)"
      ],
      "metadata": {
        "id": "TQ1tMd23KySM",
        "outputId": "38b250e4-5baa-4052-922f-354f85262419",
        "colab": {
          "base_uri": "https://localhost:8080/"
        }
      },
      "execution_count": 3,
      "outputs": [
        {
          "output_type": "stream",
          "name": "stdout",
          "text": [
            "Message data =  12.0\n",
            "Encrypted data =  3.0\n",
            "Original Message Sent =  12.0\n"
          ]
        }
      ]
    }
  ]
}